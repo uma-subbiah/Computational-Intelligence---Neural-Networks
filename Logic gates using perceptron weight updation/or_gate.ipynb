{
  "cells": [
    {
      "metadata": {
        "trusted": true
      },
      "cell_type": "code",
      "source": "import numpy as np\nw1 = 1\nw2 = 1\nw0 = -1\nx_values = [[0,0],[0,1],[1,0],[1,1]]",
      "execution_count": 1,
      "outputs": []
    },
    {
      "metadata": {
        "trusted": true
      },
      "cell_type": "code",
      "source": "X0 = []\nX1 = []\nprint(\"x1\\t x2\\t q\\t  y\\t s\")\nprint(\"--------------------------------------\")\nfor x in x_values:\n    x1 = x[0]\n    x2 = x[1]\n    q = w1*x1 + w2*x2\n    y = q+w0\n    if (y >= 0):\n        s = 1\n        X1.append([x1,x2])\n    else :\n        s = 0\n        X0.append([x1,x2])\n    print(x1, \"\\t\",x2, \"\\t\",q, \"\\t\",y, \"\\t\",s)",
      "execution_count": 2,
      "outputs": [
        {
          "output_type": "stream",
          "text": "x1\t x2\t q\t  y\t s\n--------------------------------------\n0 \t 0 \t 0 \t -1 \t 0\n0 \t 1 \t 1 \t 0 \t 1\n1 \t 0 \t 1 \t 0 \t 1\n1 \t 1 \t 2 \t 1 \t 1\n",
          "name": "stdout"
        }
      ]
    },
    {
      "metadata": {
        "trusted": true
      },
      "cell_type": "code",
      "source": "slope = -w1/w2\nintercept = -w0/w2",
      "execution_count": 4,
      "outputs": []
    },
    {
      "metadata": {
        "trusted": true
      },
      "cell_type": "code",
      "source": "print(X0)\nprint(X1)",
      "execution_count": 30,
      "outputs": [
        {
          "output_type": "stream",
          "text": "[[0, 0]]\n[[0, 1], [1, 0], [1, 1]]\n",
          "name": "stdout"
        }
      ]
    },
    {
      "metadata": {
        "trusted": true
      },
      "cell_type": "code",
      "source": "import matplotlib.pyplot as plt\nfor a in X0:\n    plt.scatter(a[0],a[1],c='r')\nfor b in X1:\n    plt.scatter(b[0],b[1],c='b')\nx = np.linspace(0,1.5,5)\ny = slope*x + intercept\nplt.ylim(-0.5,1.5)\nplt.plot(x,y,'-r')\nplt.show()",
      "execution_count": 34,
      "outputs": [
        {
          "output_type": "display_data",
          "data": {
            "image/png": "[encoded data removed]",
            "text/plain": "<Figure size 432x288 with 1 Axes>"
          },
          "metadata": {
            "needs_background": "light"
          }
        }
      ]
    },
    {
      "metadata": {
        "trusted": true
      },
      "cell_type": "code",
      "source": "",
      "execution_count": null,
      "outputs": []
    }
  ],
  "metadata": {
    "kernelspec": {
      "name": "python36",
      "display_name": "Python 3.6",
      "language": "python"
    },
    "language_info": {
      "mimetype": "text/x-python",
      "nbconvert_exporter": "python",
      "name": "python",
      "pygments_lexer": "ipython3",
      "version": "3.6.6",
      "file_extension": ".py",
      "codemirror_mode": {
        "version": 3,
        "name": "ipython"
      }
    }
  },
  "nbformat": 4,
  "nbformat_minor": 2
}