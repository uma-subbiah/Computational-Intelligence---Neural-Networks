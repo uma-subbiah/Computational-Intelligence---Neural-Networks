{
  "cells": [
    {
      "metadata": {
        "trusted": true
      },
      "cell_type": "code",
      "source": "def any_gate(x1,x2,w0,w1,w2):\n        q = w1*x1 + w2*x2\n        y = q+w0\n        if (y >= 0):\n            s = 1\n        else :\n            s = 0\n        slope = -w1/w2\n        intercept = -w0/w2\n        return [s,slope,intercept]",
      "execution_count": 28,
      "outputs": []
    },
    {
      "metadata": {
        "trusted": true
      },
      "cell_type": "code",
      "source": "# weight for and = 1 1 -1.5\n# weight for or = 1 1 -0.5\n# weight for nand = -2 -2 3",
      "execution_count": 29,
      "outputs": []
    },
    {
      "metadata": {
        "trusted": true
      },
      "cell_type": "code",
      "source": "X0 = []\nX1 = []\n\nx_values = [[0,0],[0,1],[1,0],[1,1]]\nprint(\"x1\\t x2\\t s\")\nprint(\"--------------------------------------\")\nfor x in x_values:\n    [y_or, slope_or, intercept_or] = any_gate(x[0],x[1],-0.5,1,1)\n    [y_nand, slope_nand,intercept_nand] = any_gate(x[0],x[1],3, -2,-2)\n    x1 = y_or\n    x2 = y_nand\n    [y_and,slope_and,intercept_and] = any_gate(x1,x2,-1.5,1,1)\n    y = y_and\n    if (y > 0):\n        s = 1\n        X1.append([x1,x2])\n    else :\n        s = 0\n        X0.append([x1,x2])\n    print(x1, \"\\t\",x2, \"\\t\",s)",
      "execution_count": 31,
      "outputs": [
        {
          "output_type": "stream",
          "text": "x1\t x2\t s\n--------------------------------------\n0 \t 1 \t 0\n1 \t 1 \t 1\n1 \t 1 \t 1\n1 \t 0 \t 0\n",
          "name": "stdout"
        }
      ]
    },
    {
      "metadata": {
        "trusted": true
      },
      "cell_type": "code",
      "source": "X0 = [[0,0],[0,1],[1,0],[1,1]]",
      "execution_count": 32,
      "outputs": []
    },
    {
      "metadata": {
        "trusted": true
      },
      "cell_type": "code",
      "source": "import matplotlib.pyplot as plt\nimport numpy as np\nfor x in X0:\n    plt.scatter(x[0],x[1],c='b')\nx = np.linspace(0,1.5,5)\ny1 = slope_or*x + intercept_or\ny2 = slope_nand*x + intercept_nand\nplt.ylim(-0.5,1.5)\nplt.plot(x,y1,'-r')\nplt.plot(x,y2,'-r')\nplt.show()",
      "execution_count": 34,
      "outputs": [
        {
          "output_type": "display_data",
          "data": {
            "image/png": "[encoded data removed]",
            "text/plain": "<Figure size 432x288 with 1 Axes>"
          },
          "metadata": {
            "needs_background": "light"
          }
        }
      ]
    },
    {
      "metadata": {
        "trusted": true
      },
      "cell_type": "code",
      "source": "",
      "execution_count": null,
      "outputs": []
    },
    {
      "metadata": {
        "trusted": true
      },
      "cell_type": "code",
      "source": "",
      "execution_count": null,
      "outputs": []
    }
  ],
  "metadata": {
    "kernelspec": {
      "name": "python36",
      "display_name": "Python 3.6",
      "language": "python"
    },
    "language_info": {
      "mimetype": "text/x-python",
      "nbconvert_exporter": "python",
      "name": "python",
      "pygments_lexer": "ipython3",
      "version": "3.6.6",
      "file_extension": ".py",
      "codemirror_mode": {
        "version": 3,
        "name": "ipython"
      }
    }
  },
  "nbformat": 4,
  "nbformat_minor": 2
}