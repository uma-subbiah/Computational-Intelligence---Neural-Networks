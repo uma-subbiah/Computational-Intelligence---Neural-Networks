{
  "cells": [
    {
      "metadata": {
        "trusted": true
      },
      "cell_type": "code",
      "source": "import numpy as np\nw1 = -1.5\nw0 = 1\nx_values = [0,1]",
      "execution_count": 13,
      "outputs": []
    },
    {
      "metadata": {
        "trusted": true
      },
      "cell_type": "code",
      "source": "X0 = []\nX1 = []\nprint(\"x1\\t q\\t  y\\t s\")\nprint(\"--------------------------------------\")\nfor x in x_values:\n    q = w1*x\n    y = q+w0\n    if (y >= 0):\n        s = 1\n        X1.append(x)\n    else :\n        s = 0\n        X0.append(x)\n    print(x, \"\\t\",q, \"\\t\",y, \"\\t\",s)",
      "execution_count": 40,
      "outputs": [
        {
          "output_type": "stream",
          "text": "x1\t q\t  y\t s\n--------------------------------------\n0 \t -0.0 \t 1.0 \t 1\n1 \t -1.5 \t -0.5 \t 0\n",
          "name": "stdout"
        }
      ]
    },
    {
      "metadata": {
        "trusted": true
      },
      "cell_type": "code",
      "source": "slope = -w1/w1\nintercept = -w0/w1",
      "execution_count": 41,
      "outputs": []
    },
    {
      "metadata": {
        "trusted": true
      },
      "cell_type": "code",
      "source": "X0.append(0)\nX1.append(0)\nX0",
      "execution_count": 42,
      "outputs": [
        {
          "output_type": "execute_result",
          "execution_count": 42,
          "data": {
            "text/plain": "[1, 0]"
          },
          "metadata": {}
        }
      ]
    },
    {
      "metadata": {
        "trusted": true
      },
      "cell_type": "code",
      "source": "import matplotlib.pyplot as plt\nplt.scatter(X0[0],X0[1],c='r')\nplt.scatter(X1[0],X1[1],c='b')\nx = np.linspace(0,1.5,5)\ny = slope*x + intercept\nplt.ylim(-0.5,1.5)\nplt.plot(x,y,'-r')\nplt.show()",
      "execution_count": 43,
      "outputs": [
        {
          "output_type": "display_data",
          "data": {
            "image/png": "[encoded data removed]",
            "text/plain": "<Figure size 432x288 with 1 Axes>"
          },
          "metadata": {
            "needs_background": "light"
          }
        }
      ]
    },
    {
      "metadata": {
        "trusted": true
      },
      "cell_type": "code",
      "source": "",
      "execution_count": null,
      "outputs": []
    },
    {
      "metadata": {
        "trusted": true
      },
      "cell_type": "code",
      "source": "",
      "execution_count": null,
      "outputs": []
    }
  ],
  "metadata": {
    "kernelspec": {
      "name": "python36",
      "display_name": "Python 3.6",
      "language": "python"
    },
    "language_info": {
      "mimetype": "text/x-python",
      "nbconvert_exporter": "python",
      "name": "python",
      "pygments_lexer": "ipython3",
      "version": "3.6.6",
      "file_extension": ".py",
      "codemirror_mode": {
        "version": 3,
        "name": "ipython"
      }
    }
  },
  "nbformat": 4,
  "nbformat_minor": 2
}