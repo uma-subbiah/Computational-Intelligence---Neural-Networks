{
  "cells": [
    {
      "metadata": {
        "trusted": true
      },
      "cell_type": "code",
      "source": "import numpy as np\nimport matplotlib.pyplot as plt\n\ndef predict(X):\n    if (X >= 0):\n        return 1\n    return 0\n\ndef find_gate(gate):\n    if(gate == \"and\"): \n        return np.array([0,0,0,1])\n    if(gate == \"or\"): \n        return np.array([0,1,1,1])\n    if(gate == \"nand\"): \n        return np.array([1,1,1,0])\n    if(gate == \"nor\"): \n        return np.array([1,0,0,0])\n    if(gate == \"implies\"): \n        return np.array([1,1,0,1])",
      "execution_count": 89,
      "outputs": []
    },
    {
      "metadata": {
        "trusted": true
      },
      "cell_type": "code",
      "source": "# define parameters here:\neta = 1\ntheta = 1\ndim = 2\nbias = 1\nepochs = 8\n\nw = np.zeros(dim + 1) # Since W belongs to R(n+1)\n\ntrain_x = np.array([\n    [0,0],\n    [0,1],\n    [1,0],\n    [1,1]\n])\n\ngate = input(\"Enter the gate to calculate weights for : \")\n\ntrain_y = find_gate(gate)\n\nfor _ in range(epochs):\n    flag = False\n    print(\"-------------Epoch\",_)\n    for i in range(train_y.size):\n        X = np.insert(train_x[i] ,0,bias) # take bias = +1\n        y = predict(X.T.dot(w))\n        error = train_y[i] - y\n        \n        if(error != 0):\n            flag = True\n        \n        print(\"X0 = \",X[0],\"X1 = \",X[1],\" y = \",y, \" Error = \",error,\" \")\n        w = (error*eta*X + w)\n    \n    if( not flag ):\n        break\n\n        \nprint(\"\\n\\nThe weight array is : \",w)\nprint(\"\\ni.e.,   W0 = \", w[0], \" \\n\\tW1 = \", w[1], \" \\n\\tW2 = \",w[2])",
      "execution_count": 96,
      "outputs": [
        {
          "output_type": "stream",
          "name": "stdout",
          "text": "Enter the gate to calculate weights for : implies\n-------------Epoch 0\nX0 =  1 X1 =  0  y =  1  Error =  0  \nX0 =  1 X1 =  0  y =  1  Error =  0  \nX0 =  1 X1 =  1  y =  1  Error =  -1  \nX0 =  1 X1 =  1  y =  0  Error =  1  \n-------------Epoch 1\nX0 =  1 X1 =  0  y =  1  Error =  0  \nX0 =  1 X1 =  0  y =  1  Error =  0  \nX0 =  1 X1 =  1  y =  1  Error =  -1  \nX0 =  1 X1 =  1  y =  0  Error =  1  \n-------------Epoch 2\nX0 =  1 X1 =  0  y =  1  Error =  0  \nX0 =  1 X1 =  0  y =  1  Error =  0  \nX0 =  1 X1 =  1  y =  1  Error =  -1  \nX0 =  1 X1 =  1  y =  1  Error =  0  \n-------------Epoch 3\nX0 =  1 X1 =  0  y =  0  Error =  1  \nX0 =  1 X1 =  0  y =  1  Error =  0  \nX0 =  1 X1 =  1  y =  0  Error =  0  \nX0 =  1 X1 =  1  y =  1  Error =  0  \n-------------Epoch 4\nX0 =  1 X1 =  0  y =  1  Error =  0  \nX0 =  1 X1 =  0  y =  1  Error =  0  \nX0 =  1 X1 =  1  y =  0  Error =  0  \nX0 =  1 X1 =  1  y =  1  Error =  0  \n\n\nThe weight array is :  [ 0. -1.  2.]\n\ni.e.,   W0 =  0.0  \n\tW1 =  -1.0  \n\tW2 =  2.0\n"
        }
      ]
    },
    {
      "metadata": {
        "trusted": true
      },
      "cell_type": "code",
      "source": "# To check and visualise the results :\n\nw1 = w[1]\nw2 = w[2]\nw0 = w[0]\nx_values = [[0,0],[0,1],[1,0],[1,1]]\n\nX0 = []\nX1 = []\nprint(\"x1\\t x2\\t q\\t  y\\t s\")\nprint(\"--------------------------------------\")\nfor x in x_values:\n    x1 = x[0]\n    x2 = x[1]\n    q = w1*x1 + w2*x2\n    y = q+w0\n    if (y >= 0):\n        s = 1\n        X1.append([x1,x2])\n    else :\n        s = 0\n        X0.append([x1,x2])\n    print(x1, \"\\t\",x2, \"\\t\",q, \"\\t\",y, \"\\t\",s)\n\nslope = -w1/w2\nintercept = -w0/w2\n\nfor a in X0:\n    plt.scatter(a[0],a[1],c='r')\nfor b in X1:\n    plt.scatter(b[0],b[1],c='b')\nx = np.linspace(0,1.5,5)\ny = slope*x + intercept\nplt.plot(x,y,'-r')\nplt.show()",
      "execution_count": 97,
      "outputs": [
        {
          "output_type": "stream",
          "text": "x1\t x2\t q\t  y\t s\n--------------------------------------\n0 \t 0 \t 0.0 \t 0.0 \t 1\n0 \t 1 \t 2.0 \t 2.0 \t 1\n1 \t 0 \t -1.0 \t -1.0 \t 0\n1 \t 1 \t 1.0 \t 1.0 \t 1\n",
          "name": "stdout"
        },
        {
          "output_type": "display_data",
          "data": {
            "image/png": "[encoded data removed]",
            "text/plain": "<Figure size 432x288 with 1 Axes>"
          },
          "metadata": {
            "needs_background": "light"
          }
        }
      ]
    },
    {
      "metadata": {
        "trusted": true
      },
      "cell_type": "code",
      "source": "",
      "execution_count": null,
      "outputs": []
    }
  ],
  "metadata": {
    "kernelspec": {
      "name": "python36",
      "display_name": "Python 3.6",
      "language": "python"
    },
    "language_info": {
      "mimetype": "text/x-python",
      "nbconvert_exporter": "python",
      "name": "python",
      "pygments_lexer": "ipython3",
      "version": "3.6.6",
      "file_extension": ".py",
      "codemirror_mode": {
        "version": 3,
        "name": "ipython"
      }
    }
  },
  "nbformat": 4,
  "nbformat_minor": 1
}