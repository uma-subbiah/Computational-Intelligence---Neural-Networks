{
  "cells": [
    {
      "metadata": {
        "trusted": true
      },
      "cell_type": "code",
      "source": "import math\nimport numpy as np\n\n\ndef sigmoidalFunction(Xj, Lambda):\n    ans = 1 / (1 + math.exp(-Lambda*Xj))\n    return ans",
      "execution_count": 4,
      "outputs": []
    },
    {
      "metadata": {
        "trusted": true
      },
      "cell_type": "code",
      "source": "\ns = np.array([(float) (a) for a in input(\"Enter the input signal values: \").split()])\nw = np.array([(float) (a) for a in input(\"Enter the weight values: \").split()])\ntheta = (float)(input(\"Enter the internal threshold value : \"))\nLambda = (float)(input(\"Enter the gain factor : \"))\n\nint_act = s.dot(w.T)\n\nprint(\"Activation prior to threshold modification = \",int_act)\nmod_int_act = int_act + theta\n\nprint(\"Activation after the threshold modification = \",mod_int_act)\n\nans = sigmoidalFunction(mod_int_act, Lambda)",
      "execution_count": 12,
      "outputs": [
        {
          "output_type": "stream",
          "name": "stdout",
          "text": "Enter the input signal values: 0.1 0.2 0.3\nEnter the weight values: .1 .1 .1\nEnter the internal threshold value : .5\nEnter the gain factor : .5\nActivation prior to threshold modification =  0.060000000000000005\nActivation after the threshold modification =  0.56\n"
        }
      ]
    },
    {
      "metadata": {
        "trusted": true
      },
      "cell_type": "code",
      "source": "print(\"The sigmoidal function output is = \", ans)",
      "execution_count": 13,
      "outputs": [
        {
          "output_type": "stream",
          "text": "The sigmoidal function output is =  0.569546223939229\n",
          "name": "stdout"
        }
      ]
    },
    {
      "metadata": {
        "trusted": true
      },
      "cell_type": "code",
      "source": "s = np.array([(float) (a) for a in input(\"Enter the input signal values: \").split()])\nw = np.array([(float) (a) for a in input(\"Enter the weight values: \").split()])\ntheta = (float)(input(\"Enter the internal threshold value : \"))\nLambda = (float)(input(\"Enter the gain factor : \"))\n\nint_act = s.dot(w.T)\n\nprint(\"Activation prior to threshold modification = \",int_act)\nmod_int_act = int_act + theta\n\nprint(\"Activation after the threshold modification = \",mod_int_act)\n\nans = sigmoidalFunction(mod_int_act, Lambda)\nprint(\"\\n\\nThe sigmoidal function output is = \", ans)",
      "execution_count": 18,
      "outputs": [
        {
          "output_type": "stream",
          "name": "stdout",
          "text": "Enter the input signal values: 10\nEnter the weight values: 1\nEnter the internal threshold value : -1\nEnter the gain factor : 1\nActivation prior to threshold modification =  10.0\nActivation after the threshold modification =  9.0\n\n\nThe sigmoidal function output is =  0.9998766054240137\n"
        }
      ]
    },
    {
      "metadata": {
        "trusted": true
      },
      "cell_type": "code",
      "source": "s = np.array([(float) (a) for a in input(\"Enter the input signal values: \").split()])\nw = np.array([(float) (a) for a in input(\"Enter the weight values: \").split()])\ntheta = (float)(input(\"Enter the internal threshold value : \"))\nLambda = (float)(input(\"Enter the gain factor : \"))\n\nint_act = s.dot(w.T)\n\nprint(\"Activation prior to threshold modification = \",int_act)\nmod_int_act = int_act + theta\n\nprint(\"Activation after the threshold modification = \",mod_int_act)\n\nans = sigmoidalFunction(mod_int_act, Lambda)\nprint(\"\\n\\nThe sigmoidal function output is = \", ans)",
      "execution_count": 17,
      "outputs": [
        {
          "output_type": "stream",
          "name": "stdout",
          "text": "Enter the input signal values: -10\nEnter the weight values: 1\nEnter the internal threshold value : 0\nEnter the gain factor : .5\nActivation prior to threshold modification =  -10.0\nActivation after the threshold modification =  -10.0\n\n\nThe sigmoidal function output is =  0.0066928509242848554\n"
        }
      ]
    },
    {
      "metadata": {
        "trusted": true
      },
      "cell_type": "code",
      "source": "",
      "execution_count": null,
      "outputs": []
    }
  ],
  "metadata": {
    "kernelspec": {
      "name": "python36",
      "display_name": "Python 3.6",
      "language": "python"
    },
    "language_info": {
      "mimetype": "text/x-python",
      "nbconvert_exporter": "python",
      "name": "python",
      "pygments_lexer": "ipython3",
      "version": "3.6.6",
      "file_extension": ".py",
      "codemirror_mode": {
        "version": 3,
        "name": "ipython"
      }
    }
  },
  "nbformat": 4,
  "nbformat_minor": 2
}