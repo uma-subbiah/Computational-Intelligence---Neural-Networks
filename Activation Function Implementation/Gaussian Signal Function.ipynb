{
  "cells": [
    {
      "metadata": {
        "trusted": true
      },
      "cell_type": "code",
      "source": "import math\nimport numpy as np\n\n\ndef gaussianFunction(Xj, Cj, Sigma_j):\n    num = (-(Xj - Cj)**2 )\n    denom = 2 * (Sigma_j ** 2)\n    ans = math.exp( num / denom )\n    return ans",
      "execution_count": 5,
      "outputs": []
    },
    {
      "metadata": {
        "trusted": true
      },
      "cell_type": "code",
      "source": "\ns = np.array([(float) (a) for a in input(\"Enter the input signal values: \").split()])\nw = np.array([(float) (a) for a in input(\"Enter the weight values: \").split()])\ntheta = (float)(input(\"Enter the internal threshold value : \"))\nint_act = s.dot(w.T)\n\nCj = (float)(input(\"Enter the center of the Gaussian spread : \"))\nSigma_j = (float)(input(\"Enter the Gaussian spread factor : \"))\n\nprint(\"Activation prior to threshold modification = \",int_act)\nmod_int_act = int_act + theta\n\nprint(\"Activation after the threshold modification = \",mod_int_act)\n\nans = gaussianFunction(mod_int_act, Cj, Sigma_j)\n\nprint(\"\\n\\nThe Gaussian Signal function output is = \", ans, \"\\n\\n\")",
      "execution_count": 9,
      "outputs": [
        {
          "output_type": "stream",
          "name": "stdout",
          "text": "Enter the input signal values: -5\nEnter the weight values: 2\nEnter the internal threshold value : 0\nEnter the center of the Gaussian spread : 0\nEnter the Gaussian spread factor : 3\nActivation prior to threshold modification =  -10.0\nActivation after the threshold modification =  -10.0\n\n\nThe Gaussian Signal function output is =  0.0038659201394728076 \n\n\n"
        }
      ]
    },
    {
      "metadata": {
        "trusted": true
      },
      "cell_type": "code",
      "source": "\ns = np.array([(float) (a) for a in input(\"Enter the input signal values: \").split()])\nw = np.array([(float) (a) for a in input(\"Enter the weight values: \").split()])\ntheta = (float)(input(\"Enter the internal threshold value : \"))\nint_act = s.dot(w.T)\n\nCj = (float)(input(\"Enter the center of the Gaussian spread : \"))\nSigma_j = (float)(input(\"Enter the Gaussian spread factor : \"))\n\nprint(\"Activation prior to threshold modification = \",int_act)\nmod_int_act = int_act + theta\n\nprint(\"Activation after the threshold modification = \",mod_int_act)\n\nans = gaussianFunction(mod_int_act, Cj, Sigma_j)\n\nprint(\"\\n\\nThe sigmoidal function output is = \", ans, \"\\n\\n\")",
      "execution_count": 10,
      "outputs": [
        {
          "output_type": "stream",
          "name": "stdout",
          "text": "Enter the input signal values: -10\nEnter the weight values: 1\nEnter the internal threshold value : .5\nEnter the center of the Gaussian spread : 3\nEnter the Gaussian spread factor : 2\nActivation prior to threshold modification =  -10.0\nActivation after the threshold modification =  -9.5\n\n\nThe sigmoidal function output is =  3.293714110306081e-09 \n\n\n"
        }
      ]
    },
    {
      "metadata": {
        "trusted": true
      },
      "cell_type": "code",
      "source": "\ns = np.array([(float) (a) for a in input(\"Enter the input signal values: \").split()])\nw = np.array([(float) (a) for a in input(\"Enter the weight values: \").split()])\ntheta = (float)(input(\"Enter the internal threshold value : \"))\nint_act = s.dot(w.T)\n\nCj = (float)(input(\"Enter the center of the Gaussian spread : \"))\nSigma_j = (float)(input(\"Enter the Gaussian spread factor : \"))\n\nprint(\"Activation prior to threshold modification = \",int_act)\nmod_int_act = int_act + theta\n\nprint(\"Activation after the threshold modification = \",mod_int_act)\n\nans = gaussianFunction(mod_int_act, Cj, Sigma_j)\n\nprint(\"\\n\\nThe sigmoidal function output is = \", ans, \"\\n\\n\")",
      "execution_count": 11,
      "outputs": [
        {
          "output_type": "stream",
          "name": "stdout",
          "text": "Enter the input signal values: 10 \nEnter the weight values: 1\nEnter the internal threshold value : 2\nEnter the center of the Gaussian spread : 10\nEnter the Gaussian spread factor : 3\nActivation prior to threshold modification =  10.0\nActivation after the threshold modification =  12.0\n\n\nThe sigmoidal function output is =  0.8007374029168081 \n\n\n"
        }
      ]
    },
    {
      "metadata": {
        "trusted": true
      },
      "cell_type": "code",
      "source": "\ns = np.array([(float) (a) for a in input(\"Enter the input signal values: \").split()])\nw = np.array([(float) (a) for a in input(\"Enter the weight values: \").split()])\ntheta = (float)(input(\"Enter the internal threshold value : \"))\nint_act = s.dot(w.T)\n\nCj = (float)(input(\"Enter the center of the Gaussian spread : \"))\nSigma_j = (float)(input(\"Enter the Gaussian spread factor : \"))\n\nprint(\"Activation prior to threshold modification = \",int_act)\nmod_int_act = int_act + theta\n\nprint(\"Activation after the threshold modification = \",mod_int_act)\n\nans = gaussianFunction(mod_int_act, Cj, Sigma_j)\n\nprint(\"\\n\\nThe sigmoidal function output is = \", ans, \"\\n\\n\")",
      "execution_count": 12,
      "outputs": [
        {
          "output_type": "stream",
          "name": "stdout",
          "text": "Enter the input signal values: .01\nEnter the weight values: .01\nEnter the internal threshold value : 0\nEnter the center of the Gaussian spread : 0\nEnter the Gaussian spread factor : 1\nActivation prior to threshold modification =  0.0001\nActivation after the threshold modification =  0.0001\n\n\nThe sigmoidal function output is =  0.999999995 \n\n\n"
        }
      ]
    },
    {
      "metadata": {
        "trusted": true
      },
      "cell_type": "code",
      "source": "",
      "execution_count": null,
      "outputs": []
    }
  ],
  "metadata": {
    "kernelspec": {
      "name": "python36",
      "display_name": "Python 3.6",
      "language": "python"
    },
    "language_info": {
      "mimetype": "text/x-python",
      "nbconvert_exporter": "python",
      "name": "python",
      "pygments_lexer": "ipython3",
      "version": "3.6.6",
      "file_extension": ".py",
      "codemirror_mode": {
        "version": 3,
        "name": "ipython"
      }
    }
  },
  "nbformat": 4,
  "nbformat_minor": 2
}