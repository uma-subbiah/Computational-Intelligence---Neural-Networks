{
  "cells": [
    {
      "metadata": {
        "trusted": true
      },
      "cell_type": "code",
      "source": "def linearThreshold(Xj, alpha, Xm):\n    if(Xj <= 0) :\n        return 0\n    if(Xj < Xm) :\n        return alpha*Xj\n    return 1",
      "execution_count": 3,
      "outputs": []
    },
    {
      "metadata": {
        "trusted": true
      },
      "cell_type": "code",
      "source": "import numpy as np\n\ns = np.array([(float) (a) for a in input(\"Enter the input signal values: \").split()])\nw = np.array([(float) (a) for a in input(\"Enter the weight values: \").split()])\ntheta = (float)(input(\"Enter the internal threshold value : \"))\nXm = (float)(input(\"Enter the activation of the mth neuron : \"))\n\nalpha = 1/Xm\n\nint_act = s.dot(w.T)\n\nprint(\"Activation prior to threshold modification = \",int_act)\nmod_int_act = int_act + theta\n\nprint(\"Activation after the threshold modification = \",mod_int_act)\nans = linearThreshold(mod_int_act, alpha, Xm)",
      "execution_count": 4,
      "outputs": [
        {
          "output_type": "stream",
          "name": "stdout",
          "text": "Enter the input signal values: 0.1 0.2 0.3\nEnter the weight values: 0.4 0.5 0.6\nEnter the internal threshold value : 0\nEnter the activation of the mth neuron : 2\nActivation prior to threshold modification =  0.32\nActivation after the threshold modification =  0.32\n"
        }
      ]
    },
    {
      "metadata": {
        "trusted": true
      },
      "cell_type": "code",
      "source": "print(\"The linear (Ramp) threshold output is = \", ans)",
      "execution_count": 6,
      "outputs": [
        {
          "output_type": "stream",
          "text": "The linear (Ramp) threshold output is =  0.16\n",
          "name": "stdout"
        }
      ]
    },
    {
      "metadata": {
        "trusted": true
      },
      "cell_type": "code",
      "source": "import numpy as np\n\ns = np.array([(float) (a) for a in input(\"Enter the input signal values: \").split()])\nw = np.array([(float) (a) for a in input(\"Enter the weight values: \").split()])\ntheta = (float)(input(\"Enter the internal threshold value : \"))\nXm = (float)(input(\"Enter the activation of the mth neuron : \"))\n\nalpha = 1/Xm\n\nint_act = s.dot(w.T)\n\nprint(\"Activation prior to threshold modification = \",int_act)\nmod_int_act = int_act + theta\n\nprint(\"Activation after the threshold modification = \",mod_int_act)\nans = linearThreshold(mod_int_act, alpha, Xm)\nprint(\"\\n\\nThe linear (Ramp) threshold output is = \", ans)",
      "execution_count": 7,
      "outputs": [
        {
          "output_type": "stream",
          "name": "stdout",
          "text": "Enter the input signal values: 0.1 0.2\nEnter the weight values: 0.3 0.4\nEnter the internal threshold value : 2\nEnter the activation of the mth neuron : 2\nActivation prior to threshold modification =  0.11000000000000001\nActivation after the threshold modification =  2.11\n\n\nThe linear (Ramp) threshold output is =  1\n"
        }
      ]
    },
    {
      "metadata": {
        "trusted": true
      },
      "cell_type": "code",
      "source": "import numpy as np\n\ns = np.array([(float) (a) for a in input(\"Enter the input signal values: \").split()])\nw = np.array([(float) (a) for a in input(\"Enter the weight values: \").split()])\ntheta = (float)(input(\"Enter the internal threshold value : \"))\nXm = (float)(input(\"Enter the activation of the mth neuron : \"))\n\nalpha = 1/Xm\n\nint_act = s.dot(w.T)\n\nprint(\"Activation prior to threshold modification = \",int_act)\nmod_int_act = int_act + theta\n\nprint(\"Activation after the threshold modification = \",mod_int_act)\nans = linearThreshold(mod_int_act, alpha, Xm)\nprint(\"\\n\\nThe linear (Ramp) threshold output is = \", ans)",
      "execution_count": 8,
      "outputs": [
        {
          "output_type": "stream",
          "name": "stdout",
          "text": "Enter the input signal values: 0.1 0.2\nEnter the weight values: 0.3 0.4\nEnter the internal threshold value : -0.9\nEnter the activation of the mth neuron : 2\nActivation prior to threshold modification =  0.11000000000000001\nActivation after the threshold modification =  -0.79\n\n\nThe linear (Ramp) threshold output is =  0\n"
        }
      ]
    },
    {
      "metadata": {
        "trusted": true
      },
      "cell_type": "code",
      "source": "",
      "execution_count": null,
      "outputs": []
    }
  ],
  "metadata": {
    "kernelspec": {
      "name": "python36",
      "display_name": "Python 3.6",
      "language": "python"
    },
    "language_info": {
      "mimetype": "text/x-python",
      "nbconvert_exporter": "python",
      "name": "python",
      "pygments_lexer": "ipython3",
      "version": "3.6.6",
      "file_extension": ".py",
      "codemirror_mode": {
        "version": 3,
        "name": "ipython"
      }
    }
  },
  "nbformat": 4,
  "nbformat_minor": 2
}