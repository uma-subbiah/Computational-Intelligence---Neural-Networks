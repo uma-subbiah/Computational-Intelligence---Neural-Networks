{
  "cells": [
    {
      "metadata": {
        "trusted": true
      },
      "cell_type": "code",
      "source": "def binaryThreshold(x):\n    if(x >= 0):\n        return 1\n    else:\n        return 0",
      "execution_count": 12,
      "outputs": []
    },
    {
      "metadata": {
        "trusted": true
      },
      "cell_type": "code",
      "source": "import numpy as np\n\ns = np.array([(float) (a) for a in input(\"Enter the input signal values: \").split()])\nw = np.array([(float) (a) for a in input(\"Enter the weight values: \").split()])\ntheta = (float)(input(\"Enter the internal threshold value : \"))\n\nint_act = s.dot(w.T)\nprint(\"Activation prior to threshold modification = \",int_act)\nmod_int_act = int_act + theta\nprint(\"Activation after the threshold modification = \",mod_int_act)\nans = binaryThreshold(mod_int_act)",
      "execution_count": 13,
      "outputs": [
        {
          "output_type": "stream",
          "name": "stdout",
          "text": "Enter the input signal values: 0.1 0.2\nEnter the weight values: 0.3 0.4\nEnter the internal threshold value : 0.5\nActivation prior to threshold modification =  0.11000000000000001\nActivation after the threshold modification =  0.61\n"
        }
      ]
    },
    {
      "metadata": {
        "trusted": true
      },
      "cell_type": "code",
      "source": "print(\"The binary threshold output is = \", ans)",
      "execution_count": 14,
      "outputs": [
        {
          "output_type": "stream",
          "text": "The binary threshold output is =  1\n",
          "name": "stdout"
        }
      ]
    },
    {
      "metadata": {
        "trusted": true
      },
      "cell_type": "code",
      "source": "import numpy as np\n\ns = np.array([(float) (a) for a in input(\"Enter the input signal values: \").split()])\nw = np.array([(float) (a) for a in input(\"Enter the weight values: \").split()])\ntheta = (float)(input(\"Enter the internal threshold value : \"))\n\nint_act = s.dot(w.T)\nprint(\"Activation prior to threshold modification = \",int_act)\nmod_int_act = int_act + theta\nprint(\"Activation after the threshold modification = \",mod_int_act)\nans = binaryThreshold(mod_int_act)",
      "execution_count": 21,
      "outputs": [
        {
          "output_type": "stream",
          "name": "stdout",
          "text": "Enter the input signal values: 0.1 0.2 0.3\nEnter the weight values: 0.4 0.5 0.6\nEnter the internal threshold value : -0.9\nActivation prior to threshold modification =  0.32\nActivation after the threshold modification =  -0.5800000000000001\n"
        }
      ]
    },
    {
      "metadata": {
        "trusted": true
      },
      "cell_type": "code",
      "source": "print(\"The binary threshold output is = \", ans)",
      "execution_count": 22,
      "outputs": [
        {
          "output_type": "stream",
          "text": "The binary threshold output is =  0\n",
          "name": "stdout"
        }
      ]
    },
    {
      "metadata": {
        "trusted": true
      },
      "cell_type": "code",
      "source": "",
      "execution_count": null,
      "outputs": []
    }
  ],
  "metadata": {
    "kernelspec": {
      "name": "python36",
      "display_name": "Python 3.6",
      "language": "python"
    },
    "language_info": {
      "mimetype": "text/x-python",
      "nbconvert_exporter": "python",
      "name": "python",
      "pygments_lexer": "ipython3",
      "version": "3.6.6",
      "file_extension": ".py",
      "codemirror_mode": {
        "version": 3,
        "name": "ipython"
      }
    }
  },
  "nbformat": 4,
  "nbformat_minor": 2
}